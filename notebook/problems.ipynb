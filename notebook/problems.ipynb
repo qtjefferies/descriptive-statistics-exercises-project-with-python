{
    "cells": [
        {
            "cell_type": "markdown",
            "id": "ac622319",
            "metadata": {},
            "source": [
                "# Descriptive statistics problems"
            ]
        },
        {
            "cell_type": "markdown",
            "id": "5e0ab0d5",
            "metadata": {},
            "source": [
                "### Exercise 1\n",
                "\n",
                "We will use NumPy to obtain information to describe statistically.\n",
                "\n",
                "- Generate an array of 100 elements following a normal distribution.\n",
                "- Generate an array of 100 elements following a chi-square distribution with 3 degrees of freedom.\n",
                "- Calculate the main metrics and statistical measures that best describe the two vectors."
            ]
        },
        {
            "cell_type": "code",
            "execution_count": 1,
            "id": "34720ab6",
            "metadata": {},
            "outputs": [
                {
                    "name": "stdout",
                    "output_type": "stream",
                    "text": [
                        "[ 1.97675916e+00 -1.85150661e+00  4.36050474e-01 -8.42547470e-01\n",
                        " -1.34949509e+00 -1.48264533e+00  1.96599777e+00  9.84617526e-01\n",
                        "  2.83926465e-01  2.39704566e-02 -1.56159894e+00  9.29856348e-01\n",
                        "  7.59198151e-01 -1.31306351e+00 -1.27328587e+00 -5.40293441e-01\n",
                        " -8.85754529e-01 -1.59738234e+00 -1.64133266e-01 -2.52373666e-01\n",
                        " -1.02297245e+00 -6.66801380e-01 -1.68253128e-01 -1.86526893e-03\n",
                        "  4.77349010e-01  2.12080580e+00  1.21302622e+00 -6.99009086e-01\n",
                        " -1.75145513e+00  2.16496686e+00  7.36279465e-01 -8.04082005e-01\n",
                        "  1.89658494e+00  2.60014582e-01  6.81184968e-01 -6.45221008e-01\n",
                        "  5.96425904e-01 -2.58624626e-01 -6.87809728e-01  1.16730740e+00\n",
                        "  1.87400789e+00 -2.69424900e-01 -1.16063555e+00 -1.01617116e+00\n",
                        "  1.95628847e+00  5.85743086e-01 -1.82414466e-01 -6.70831547e-01\n",
                        "  3.28891535e-01  7.91697033e-01 -1.73795644e+00 -5.87292955e-01\n",
                        "  1.63094366e+00 -8.21281908e-01 -8.79689478e-01 -3.71375427e-02\n",
                        " -9.82203152e-02  8.98818422e-01 -9.00521009e-01  4.10870414e-02\n",
                        "  8.58513123e-01 -7.00108441e-01 -1.87433916e-01  8.79896043e-01\n",
                        "  1.11798833e+00 -5.48416291e-02  1.15167217e+00 -5.27968322e-01\n",
                        "  4.83723905e-01  1.10472988e+00  2.19795116e-01 -8.47268885e-01\n",
                        "  1.11174815e+00 -9.79453255e-01 -2.79325635e-01 -2.11497120e-01\n",
                        "  1.17539894e+00  1.04389298e+00  2.92237351e-01 -8.47853233e-01\n",
                        " -1.86007788e-01 -8.18918750e-01 -7.58738440e-01 -8.88111661e-01\n",
                        " -1.89513989e-01  4.22947316e-01 -2.61136536e+00  8.56155982e-01\n",
                        " -5.48278024e-01 -5.20074831e-01  1.30961995e-01 -5.40549445e-01\n",
                        "  6.10645209e-02  1.16446053e+00 -8.90943892e-01  1.96924907e+00\n",
                        "  4.90027333e-01  2.40282743e-01  1.59617321e+00  1.06297257e+00]\n",
                        "[ 0.49458127  2.6782542   5.37566208  0.78109427  3.76168131  1.69666047\n",
                        "  3.35327243  5.27137989  1.68045591 10.93765003  3.69016671  7.28711653\n",
                        "  2.51093968  2.53779108  0.47365172  1.41819687  4.85825312  8.19454588\n",
                        "  1.40907838  3.11466407  3.0552184   0.48193273  5.07894389  7.16871933\n",
                        "  3.25028553  3.42271992  4.37019258  0.31594936  3.41257992  1.39738389\n",
                        "  0.72495314  2.71234322  2.55296976  2.72162971  2.62437962  1.50821759\n",
                        "  7.11107402  2.04335505  2.44147507  1.50002905  1.72964756  3.53923472\n",
                        "  2.84932975  0.03599067  2.59886033  1.43866954  2.74685384  2.44054547\n",
                        "  5.5765096   3.96903987  1.8020774   5.58224983  2.13970479  2.10905339\n",
                        "  1.67775111  0.76085106  4.50819006  4.54775993  3.01207901  0.75229098\n",
                        "  3.36578462  1.55514198  5.95473095  0.08123492  1.56283965  5.77247622\n",
                        "  3.49390963  2.18889683  1.98222343  3.94284281  1.75083596  5.09416226\n",
                        "  2.57530739  1.08587878  1.61155386  1.77344196  2.45535015  1.8908945\n",
                        "  2.51774336  3.73507697  1.31781255  2.76830322  2.45101544  2.96848067\n",
                        "  1.23155453  2.09087755  0.41762527  2.75384367  6.75319925  6.70406013\n",
                        "  2.71975296  0.50284723  1.63072187  3.71136946  5.10186065  0.90636326\n",
                        "  4.76586985  2.50642689  1.66380909 14.8260166 ]\n"
                    ]
                }
            ],
            "source": [
                "# import numpy randint/matplotlib\n",
                "import numpy as np\n",
                "import matplotlib.pyplot as plt\n",
                "import scipy.stats as stats\n",
                "\n",
                "#define number of elements\n",
                "num_elements = 100\n",
                "\n",
                "#generate the arry for normal distibution \n",
                "elements = np.random.normal(size=num_elements)\n",
                "print(elements)\n",
                "\n",
                "#generate the chi squared \n",
                "chi = np.random.chisquare(df=3, size=num_elements)\n",
                "print(chi)\n",
                "\n",
                "\n",
                "\n"
            ]
        },
        {
            "cell_type": "markdown",
            "id": "c68d6c04",
            "metadata": {},
            "source": [
                "### Central Tendancy "
            ]
        },
        {
            "cell_type": "code",
            "execution_count": 2,
            "id": "84031f6e",
            "metadata": {},
            "outputs": [
                {
                    "name": "stdout",
                    "output_type": "stream",
                    "text": [
                        "The normal distribution central tendancy is\n",
                        " mean: 0.03445686109974642\n",
                        "median: -0.07653097212820856\n",
                        "mode: ModeResult(mode=np.float64(-2.6113653647064785), count=np.int64(1))\n",
                        "variance:1.0583826949821522\n",
                        "standard deviation: 1.028777281525089\n",
                        "skewness: 0.13766109021212883\n",
                        "kurtosis: -0.5317147068286303\n",
                        "\n",
                        "The chi central tendancy is\n",
                        "mean: 3.0541827291024184\n",
                        "median: 2.5641385731208697\n",
                        "mode: ModeResult(mode=np.float64(0.035990671098301764), count=np.int64(1))\n",
                        "Skewness: 2.0489585879462586\n",
                        "Kurtosis: 6.722236241166716\n",
                        "std_dev: 2.275208260780523\n",
                        "vars: 5.176572629923932\n",
                        "\n",
                        "None\n"
                    ]
                }
            ],
            "source": [
                "import scipy.stats as stats \n",
                "\n",
                "\n",
                "def measures_of_central_tendency(elements, chi):\n",
                "    mean_normal = np.mean(elements)\n",
                "    median_normal = np.median(elements)\n",
                "    mode_normal = stats.mode(elements)\n",
                "    Skewness_normal = stats.skew(elements)\n",
                "    Kurtosis_normal = stats.kurtosis(elements)\n",
                "    std_dev_normal = np.std(elements)\n",
                "    vars_normal = np.var(elements)\n",
                "    \n",
                "    print(f'The normal distribution central tendancy is\\n mean: {mean_normal}\\nmedian: {median_normal}\\nmode: {mode_normal}\\nvariance:{vars_normal}\\nstandard deviation: {std_dev_normal}\\nskewness: {Skewness_normal}\\nkurtosis: {Kurtosis_normal}\\n')\n",
                "\n",
                "    \n",
                "    mean_chi = np.mean(chi)\n",
                "    median_chi = np.median(chi)\n",
                "    mode_chi = stats.mode(chi)\n",
                "    Skewness_chi = stats.skew(chi)\n",
                "    Kurtosis_chi = stats.kurtosis(chi)\n",
                "    std_dev_chi = np.std(chi)\n",
                "    vars_chi = np.var(chi)\n",
                "    print(f'The chi central tendancy is\\nmean: {mean_chi}\\nmedian: {median_chi}\\nmode: {mode_chi}\\nSkewness: {Skewness_chi}\\nKurtosis: {Kurtosis_chi}\\nstd_dev: {std_dev_chi}\\nvars: {vars_chi}\\n')\n",
                "    \n",
                "\n",
                "print(measures_of_central_tendency(elements, chi))"
            ]
        },
        {
            "cell_type": "markdown",
            "id": "46c70c3d",
            "metadata": {},
            "source": [
                "### Exercise 2\n",
                "\n",
                "Write a Python program to calculate the standard deviation of the following data:\n",
                "\n",
                "```py\n",
                "data = [4, 2, 5, 8, 6]\n",
                "```"
            ]
        },
        {
            "cell_type": "code",
            "execution_count": 26,
            "id": "d590308e",
            "metadata": {},
            "outputs": [
                {
                    "name": "stdout",
                    "output_type": "stream",
                    "text": [
                        "5.0\n",
                        "2.23606797749979\n"
                    ]
                }
            ],
            "source": [
                "#import numpy as np\n",
                "import math \n",
                "data = [4, 2, 5, 8, 6]\n",
                "\n",
                "#create average \n",
                "def avg(data):\n",
                "    n=len(data)\n",
                "    mean = sum(data) / n  # calculate the mean\n",
                "    return mean\n",
                "\n",
                "\n",
                "print(avg(data))\n",
                "\n",
                "#create std calc \n",
                "def std_dev(data):\n",
                "    for x in data:\n",
                "    \n",
                "        std = sum((x - avg(data))**2 for x in data) / (len(data) - 1)\n",
                "      \n",
                "        return math.sqrt(std)\n",
                "\n",
                "print(std_dev(data))\n",
                "\n",
                "\n",
                "# def std_deviation(data):\n",
                "#     for i in data:\n",
                "#         x1 = data[i]\n",
                "#         variance = (float(x1) - mean)**2\n",
                "#         n = len(data)\n",
                "        \n",
                "#         if n-1 == 0:\n",
                "#             return 0\n",
                "#         else:\n",
                "#             return math.sqrt(variance/(n-1))\n",
                "\n",
                "# print(std_deviation(data))"
            ]
        },
        {
            "cell_type": "code",
            "execution_count": null,
            "id": "c06141f4",
            "metadata": {},
            "outputs": [],
            "source": []
        }
    ],
    "metadata": {
        "interpreter": {
            "hash": "9248718ffe6ce6938b217e69dbcc175ea21f4c6b28a317e96c05334edae734bb"
        },
        "kernelspec": {
            "display_name": "Python 3.9.12 ('ML-BOOTCAMP')",
            "language": "python",
            "name": "python3"
        },
        "language_info": {
            "codemirror_mode": {
                "name": "ipython",
                "version": 3
            },
            "file_extension": ".py",
            "mimetype": "text/x-python",
            "name": "python",
            "nbconvert_exporter": "python",
            "pygments_lexer": "ipython3",
            "version": "3.11.4"
        }
    },
    "nbformat": 4,
    "nbformat_minor": 5
}
